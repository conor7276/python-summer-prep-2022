{
 "cells": [
  {
   "cell_type": "markdown",
   "metadata": {},
   "source": [
    "# List Overlap \n",
    "Write a program that returns a list that contains only the elements that are common between the lists (without duplicates). Make sure your program works on two lists of different sizes."
   ]
  },
  {
   "cell_type": "code",
   "execution_count": 13,
   "metadata": {},
   "outputs": [
    {
     "data": {
      "text/plain": [
       "[1, 2, 3, 5, 8, 13]"
      ]
     },
     "execution_count": 13,
     "metadata": {},
     "output_type": "execute_result"
    }
   ],
   "source": [
    "a = [1, 1, 2, 3, 5, 8, 13, 21, 34, 55, 89]\n",
    "b = [1, 2, 3, 4, 5, 6, 7, 8, 9, 10, 11, 12, 13]\n",
    "\n",
    "\n",
    "list(set(a).intersection(b))\n"
   ]
  },
  {
   "cell_type": "markdown",
   "metadata": {},
   "source": [
    "# Rock Paper Scissors\n",
    "\n",
    "Make a two-player Rock-Paper-Scissors game. (Hint: Ask for player plays (using input), compare them, print out a message of congratulations to the winner.)\n",
    "\n",
    "Remember the rules:\n",
    "\n",
    "* Rock beats scissors\n",
    "* Scissors beats paper\n",
    "* Paper beats rock"
   ]
  },
  {
   "cell_type": "code",
   "execution_count": 33,
   "metadata": {},
   "outputs": [
    {
     "name": "stdout",
     "output_type": "stream",
     "text": [
      "Player 1 Choose: Scissors\n",
      "Player 2 Choose: Paper\n",
      "Player 1 Wins\n",
      "Congratulations\n"
     ]
    }
   ],
   "source": [
    "player1 = input(\"Player 1 Choose: \").title()\n",
    "player2 = input(\"Player 2 Choose: \").title()\n",
    "r = \"Rock\"\n",
    "s = \"Scissors\"\n",
    "p = \"Paper\"\n",
    "\n",
    "if player1 == player2:\n",
    "    print(\"Tie\")\n",
    "else:\n",
    "    if player1 == r and player2 == s:\n",
    "        print(\"Player 1 Wins\")\n",
    "    elif player1 == s and player2 == r:\n",
    "        print(\"Player 2 Wins\")\n",
    "    elif player1 == r and player2 == p:\n",
    "        print(\"Player 2 Wins\")\n",
    "    elif player1 == p and player2 == r:\n",
    "        print(\"Player 1 Wins\")\n",
    "    elif player1 == s and player2 == p:\n",
    "        print(\"Player 1 Wins\")\n",
    "    elif player1 == p and player2 == s:\n",
    "        print(\"Player 2 Wins\")\n",
    "print(\"Congratulations\")"
   ]
  },
  {
   "cell_type": "markdown",
   "metadata": {},
   "source": [
    "# Palindrome \n",
    "\n",
    "Ask the user for a string and print out whether this string is a palindrome or not. (A palindrome is a string that reads the same forwards and backwards.)"
   ]
  },
  {
   "cell_type": "code",
   "execution_count": 34,
   "metadata": {},
   "outputs": [
    {
     "name": "stdout",
     "output_type": "stream",
     "text": [
      "tacocat\n",
      "True\n"
     ]
    }
   ],
   "source": [
    "palindrome = input()\n",
    "check = palindrome[::-1]\n",
    "print(palindrome)\n",
    "if palindrome == check:\n",
    "    print(\"True\")\n",
    "else:\n",
    "    print(\"False\")"
   ]
  },
  {
   "cell_type": "markdown",
   "metadata": {},
   "source": [
    "# Password Generator\n",
    "Write a password generator in Python. Be creative with how you generate passwords - strong passwords have a mix of lowercase letters, uppercase letters, numbers, and symbols. The passwords should be random.  Ask the user to input how long they want their password to be. "
   ]
  },
  {
   "cell_type": "code",
   "execution_count": 8,
   "metadata": {},
   "outputs": [
    {
     "name": "stdout",
     "output_type": "stream",
     "text": [
      "Enter how long your password should be 10\n",
      "8TvkiRH)vZ\n"
     ]
    }
   ],
   "source": [
    "import random\n",
    "import string\n",
    "chars = \"abcdefghijklmnopqrstuvwxyz01234567890ABCDEFGHIJKLMNOPQRSTUVWXYZ!@#$%^&*()?\"\n",
    "length = input(\"Enter how long your password should be \")\n",
    "password = []\n",
    "for i in range(int(length)):\n",
    "    char = password.append(random.choice(chars))\n",
    "    \n",
    "print(\"\".join(password))\n",
    "\n",
    "\n"
   ]
  },
  {
   "cell_type": "markdown",
   "metadata": {},
   "source": [
    "# Divisors Solutions\n",
    "\n",
    "Create a program that asks the user for a number and then prints out a list of all the divisors of that number. (If you don’t know what a divisor is, it is a number that divides evenly into another number. For example, 13 is a divisor of 26 because 26 / 13 has no remainder.)"
   ]
  },
  {
   "cell_type": "code",
   "execution_count": 14,
   "metadata": {},
   "outputs": [
    {
     "name": "stdout",
     "output_type": "stream",
     "text": [
      "[1, 2, 13, 26]\n",
      "[]\n",
      "[]\n",
      "[1, 2, 4, 5, 10, 20, 25, 50, 100]\n"
     ]
    },
    {
     "data": {
      "text/plain": [
       "[1, 2, 4, 5, 10, 20, 25, 50, 100]"
      ]
     },
     "execution_count": 14,
     "metadata": {},
     "output_type": "execute_result"
    }
   ],
   "source": [
    "def Divisors_Solutions(num=0):\n",
    "    Divisors = []\n",
    "    for i in range(1,num + 1):\n",
    "        if num % i == 0:\n",
    "            Divisors.append(i)\n",
    "    print(Divisors)\n",
    "    return Divisors\n",
    "Divisors_Solutions(26)\n",
    "Divisors_Solutions(0)\n",
    "Divisors_Solutions()\n",
    "Divisors_Solutions(100)"
   ]
  },
  {
   "cell_type": "markdown",
   "metadata": {},
   "source": [
    "# Missing Character\n",
    "Given a non-empty string and an int n, return a new string where the char at index n has been removed. The value of n will be a valid index of a char in the original string (i.e. n will be in the range 0..len(str)-1 inclusive).\n",
    "\n",
    "```\n",
    "missing_char('kitten', 1) → 'ktten'\n",
    "missing_char('kitten', 0) → 'itten'\n",
    "missing_char('kitten', 4) → 'kittn'\n",
    "\n",
    "```"
   ]
  },
  {
   "cell_type": "code",
   "execution_count": 29,
   "metadata": {},
   "outputs": [
    {
     "name": "stdout",
     "output_type": "stream",
     "text": [
      "ktten\n",
      "itten\n",
      "kittn\n"
     ]
    },
    {
     "data": {
      "text/plain": [
       "'kittn'"
      ]
     },
     "execution_count": 29,
     "metadata": {},
     "output_type": "execute_result"
    }
   ],
   "source": [
    "def missing_char(word, n):\n",
    "    word = word.split(word[n]) # split the string by the one character\n",
    "    word = \"\".join(word) # turn it back into a string\n",
    "    print(word)\n",
    "    return word\n",
    "\n",
    "missing_char('kitten', 1) \n",
    "missing_char('kitten', 0)\n",
    "missing_char('kitten', 4)"
   ]
  },
  {
   "cell_type": "markdown",
   "metadata": {},
   "source": [
    "# Centered Average\n",
    "\n",
    "Return the \"centered\" average of an array of ints, which we'll say is the mean average of the values, except ignoring the largest and smallest values in the array. If there are multiple copies of the smallest value, ignore just one copy, and likewise for the largest value.  You may assume that the array is length 3 or more and will never contain negative values. \n",
    "* Round your answer to the nearest whole number.\n",
    "\n",
    "```\n",
    "centered_average([1, 2, 3, 4, 100]) → 3\n",
    "centered_average([1, 1, 5, 5, 10, 8, 7]) → 5\n",
    "```"
   ]
  },
  {
   "cell_type": "code",
   "execution_count": 37,
   "metadata": {},
   "outputs": [
    {
     "name": "stdout",
     "output_type": "stream",
     "text": [
      "[25, 25, 25, 50, 50, 75, 100, 100]\n"
     ]
    },
    {
     "data": {
      "text/plain": [
       "54.166666666666664"
      ]
     },
     "execution_count": 37,
     "metadata": {},
     "output_type": "execute_result"
    }
   ],
   "source": [
    "import math\n",
    "def centered_average(example_list):\n",
    "    example_list.sort() # sort list\n",
    "    example_list.pop(0) # pop smallest\n",
    "    example_list.pop(-1) # pop largest\n",
    "    return sum(example_list) / len(example_list)\n",
    "print(example_list)\n",
    "centered_average([100, 100, 50, 75, 50, 25, 25, 25])"
   ]
  },
  {
   "cell_type": "code",
   "execution_count": null,
   "metadata": {},
   "outputs": [],
   "source": []
  }
 ],
 "metadata": {
  "kernelspec": {
   "display_name": "Python 3 (ipykernel)",
   "language": "python",
   "name": "python3"
  },
  "language_info": {
   "codemirror_mode": {
    "name": "ipython",
    "version": 3
   },
   "file_extension": ".py",
   "mimetype": "text/x-python",
   "name": "python",
   "nbconvert_exporter": "python",
   "pygments_lexer": "ipython3",
   "version": "3.9.12"
  }
 },
 "nbformat": 4,
 "nbformat_minor": 4
}
